{
  "nbformat": 4,
  "nbformat_minor": 0,
  "metadata": {
    "colab": {
      "name": "CAE",
      "provenance": [],
      "collapsed_sections": []
    },
    "kernelspec": {
      "name": "python3",
      "display_name": "Python 3"
    }
  },
  "cells": [
    {
      "cell_type": "code",
      "metadata": {
        "id": "MNZ8PRyWm1c1"
      },
      "source": [
        "from tensorflow import keras\n",
        "from tensorflow.keras.layers import Input, Dense, Conv2D, MaxPooling2D, UpSampling2D, BatchNormalization\n",
        "from tensorflow.keras.models import Model\n",
        "import numpy as np\n",
        "import pandas as pd\n",
        "import matplotlib.pyplot as plt"
      ],
      "execution_count": null,
      "outputs": []
    },
    {
      "cell_type": "code",
      "metadata": {
        "id": "HFi_xZORq5uf"
      },
      "source": [
        "# Load the data, split between train and test sets\n",
        "(x_train, _), (x_test, _) = keras.datasets.cifar10.load_data()"
      ],
      "execution_count": null,
      "outputs": []
    },
    {
      "cell_type": "code",
      "metadata": {
        "id": "dE0xwn_lvw_f"
      },
      "source": [
        "#Splitting test set into test and validation of 5000 samples each\n",
        "x_val = x_test[5000:10000]\n",
        "x_test = x_test[0:5000]"
      ],
      "execution_count": null,
      "outputs": []
    },
    {
      "cell_type": "code",
      "metadata": {
        "id": "7ucoaS1_0Ca7"
      },
      "source": [
        "#normalizing train, validation, and test\n",
        "x_train = x_train.astype('float32') / 255\n",
        "x_val = x_val.astype('float32')/255\n",
        "x_test = x_test.astype('float32') / 255"
      ],
      "execution_count": null,
      "outputs": []
    },
    {
      "cell_type": "code",
      "metadata": {
        "id": "AyxGAEIc0cY9"
      },
      "source": [
        "#Building the CAE\n",
        "#encoder\n",
        "encoder_input = keras.Input(shape=(32, 32, 3), name='img')\n",
        "x = Conv2D(8, (3, 3), activation='relu', padding='same')(encoder_input)\n",
        "x = BatchNormalization()(x)\n",
        "x = MaxPooling2D((2, 2), padding='same')(x)\n",
        "x = Conv2D(12, (3, 3), activation='relu', padding='same')(x)\n",
        "x = BatchNormalization()(x)\n",
        "encoder_output = MaxPooling2D((2, 2), padding='same')(x)\n",
        "\n",
        "encoder = keras.Model(encoder_input, encoder_output, name='encoder')\n",
        "\n",
        "#decoder\n",
        "x = Conv2D(16, (3, 3), activation='relu', padding='same')(encoder_output)\n",
        "x = UpSampling2D((2, 2))(x)\n",
        "x = Conv2D(12, (3, 3), activation='relu', padding='same')(x)\n",
        "x = UpSampling2D((2, 2))(x)\n",
        "decoder_output = Conv2D(3, (3, 3), activation='sigmoid', padding='same')(x)\n",
        "\n",
        "autoencoder = keras.Model(encoder_input, decoder_output, name='cae')\n",
        "autoencoder.summary()"
      ],
      "execution_count": null,
      "outputs": []
    },
    {
      "cell_type": "code",
      "metadata": {
        "id": "QvkVQ9c6-xVY"
      },
      "source": [
        "#compile and train the model\n",
        "autoencoder.compile(optimizer='adam', loss='binary_crossentropy')\n",
        "\n",
        "early_stop = keras.callbacks.EarlyStopping(monitor='val_loss', patience=3)\n",
        "cae_fit = autoencoder.fit(x_train, x_train,\n",
        "                epochs=15,\n",
        "                batch_size=100,\n",
        "                shuffle=True,\n",
        "                validation_data=(x_val, x_val),\n",
        "                callbacks=[early_stop])"
      ],
      "execution_count": null,
      "outputs": []
    },
    {
      "cell_type": "code",
      "metadata": {
        "id": "f4RAlzNQBLcE",
        "outputId": "90992a2b-8e3b-4f83-c14e-78864ede4e4c",
        "colab": {
          "base_uri": "https://localhost:8080/",
          "height": 313
        }
      },
      "source": [
        "#plot learning curve\n",
        "import pandas as pd\n",
        "import matplotlib.pyplot as plt\n",
        "\n",
        "model_df = pd.DataFrame(cae_fit.history)\n",
        "model_df['epoch'] = cae_fit.epoch\n",
        "fig = plt.Figure(figsize=(4, 3))\n",
        "\n",
        "epochs_to_mean = 1\n",
        "\n",
        "plt.figure(figsize=(6, 4))\n",
        "plt.plot(model_df['loss'].rolling(epochs_to_mean).mean(), 'b')\n",
        "plt.plot(model_df['val_loss'].rolling(epochs_to_mean).mean(), '-r')\n",
        "plt.title('Learning Curves')\n",
        "plt.xlabel('Epochs')\n",
        "plt.ylabel('Loss')\n",
        "plt.legend(['traininig loss', 'validation loss'])"
      ],
      "execution_count": null,
      "outputs": [
        {
          "output_type": "execute_result",
          "data": {
            "text/plain": [
              "<matplotlib.legend.Legend at 0x7f4062992f98>"
            ]
          },
          "metadata": {
            "tags": []
          },
          "execution_count": 42
        },
        {
          "output_type": "display_data",
          "data": {
            "image/png": "[encoded data removed]",
            "text/plain": [
              "<Figure size 432x288 with 1 Axes>"
            ]
          },
          "metadata": {
            "tags": [],
            "needs_background": "light"
          }
        }
      ]
    },
    {
      "cell_type": "code",
      "metadata": {
        "id": "nGgHHruJDka3"
      },
      "source": [
        "decoded_imgs = autoencoder.predict(x_test)"
      ],
      "execution_count": null,
      "outputs": []
    },
    {
      "cell_type": "code",
      "metadata": {
        "id": "OoArQplcQ4hS",
        "outputId": "6b538d6a-7e37-4989-cf97-aff2f166a5e4",
        "colab": {
          "base_uri": "https://localhost:8080/"
        }
      },
      "source": [
        "bce = keras.losses.BinaryCrossentropy()\n",
        "bce(x_test, decoded_imgs).numpy()"
      ],
      "execution_count": null,
      "outputs": [
        {
          "output_type": "execute_result",
          "data": {
            "text/plain": [
              "0.5595714"
            ]
          },
          "metadata": {
            "tags": []
          },
          "execution_count": 14
        }
      ]
    },
    {
      "cell_type": "code",
      "metadata": {
        "id": "jfF9GbDktRLR"
      },
      "source": [
        "n = 10\n",
        "plt.figure(figsize=(20, 4))\n",
        "for i in range(n):\n",
        "    # display original\n",
        "    ax = plt.subplot(2, n, i + 1)\n",
        "    plt.imshow(x_test[i].reshape(32, 32, 3))\n",
        "    plt.gray()\n",
        "    ax.get_xaxis().set_visible(False)\n",
        "    ax.get_yaxis().set_visible(False)\n",
        "\n",
        "    # display reconstruction\n",
        "    ax = plt.subplot(2, n, i + n + 1)\n",
        "    plt.imshow(decoded_imgs[i].reshape(32, 32, 3))\n",
        "    plt.gray()\n",
        "    ax.get_xaxis().set_visible(False)\n",
        "    ax.get_yaxis().set_visible(False)\n",
        "plt.show()"
      ],
      "execution_count": null,
      "outputs": []
    },
    {
      "cell_type": "code",
      "metadata": {
        "id": "jk-lqrzt_-qO"
      },
      "source": [
        "#Building a CAE with 13 layers and more filters\n",
        "#encoder\n",
        "encoder_input = keras.Input(shape=(32, 32, 3), name='img')\n",
        "x = Conv2D(16, (3, 3), activation='relu', padding='same')(encoder_input)\n",
        "x = MaxPooling2D((2, 2), padding='same')(x)\n",
        "x = Conv2D(32, (3, 3), activation='relu', padding='same')(x)\n",
        "x = MaxPooling2D((2, 2), padding='same')(x)\n",
        "x = Conv2D(64, (3, 3), activation='relu', padding='same')(x)\n",
        "encoder_output = MaxPooling2D((2, 2), padding='same')(x)\n",
        "\n",
        "encoder = keras.Model(encoder_input, encoder_output, name='encoder')\n",
        "\n",
        "#decoder\n",
        "x = Conv2D(32, (3, 3), activation='relu', padding='same')(encoder_output)\n",
        "x = UpSampling2D((2, 2))(x)\n",
        "x = Conv2D(16, (3, 3), activation='relu', padding='same')(x)\n",
        "x = UpSampling2D((2, 2))(x)\n",
        "x = Conv2D(8, (3, 3), activation='relu', padding='same')(x)\n",
        "x = UpSampling2D((2, 2))(x)\n",
        "decoder_output = Conv2D(3, (3, 3), activation='sigmoid', padding='same')(x)\n",
        "\n",
        "autoencoder = keras.Model(encoder_input, decoder_output, name='cae')\n",
        "autoencoder.summary()"
      ],
      "execution_count": null,
      "outputs": []
    },
    {
      "cell_type": "code",
      "metadata": {
        "id": "ErlnpmURB4DV",
        "outputId": "d7ac30b1-ceac-4a89-a5a5-791a71bfb410",
        "colab": {
          "base_uri": "https://localhost:8080/"
        }
      },
      "source": [
        "#compile and train the model\n",
        "autoencoder.compile(optimizer='adam', loss='binary_crossentropy')\n",
        "\n",
        "early_stop = keras.callbacks.EarlyStopping(monitor='val_loss', patience=3)\n",
        "cae_fit = autoencoder.fit(x_train, x_train,\n",
        "                epochs=15,\n",
        "                batch_size=200,\n",
        "                shuffle=True,\n",
        "                validation_data=(x_val, x_val),\n",
        "                callbacks=[early_stop])"
      ],
      "execution_count": null,
      "outputs": [
        {
          "output_type": "stream",
          "text": [
            "Epoch 1/15\n",
            "250/250 [==============================] - 99s 398ms/step - loss: 0.6054 - val_loss: 0.5866\n",
            "Epoch 2/15\n",
            "250/250 [==============================] - 102s 410ms/step - loss: 0.5833 - val_loss: 0.5801\n",
            "Epoch 3/15\n",
            "250/250 [==============================] - 102s 408ms/step - loss: 0.5787 - val_loss: 0.5771\n",
            "Epoch 4/15\n",
            "250/250 [==============================] - 104s 417ms/step - loss: 0.5765 - val_loss: 0.5768\n",
            "Epoch 5/15\n",
            "250/250 [==============================] - 101s 406ms/step - loss: 0.5751 - val_loss: 0.5746\n",
            "Epoch 6/15\n",
            "250/250 [==============================] - 102s 409ms/step - loss: 0.5740 - val_loss: 0.5735\n",
            "Epoch 7/15\n",
            "250/250 [==============================] - 101s 406ms/step - loss: 0.5732 - val_loss: 0.5725\n",
            "Epoch 8/15\n",
            "250/250 [==============================] - 101s 405ms/step - loss: 0.5725 - val_loss: 0.5739\n",
            "Epoch 9/15\n",
            "250/250 [==============================] - 104s 415ms/step - loss: 0.5717 - val_loss: 0.5716\n",
            "Epoch 10/15\n",
            "250/250 [==============================] - 104s 414ms/step - loss: 0.5713 - val_loss: 0.5708\n",
            "Epoch 11/15\n",
            "250/250 [==============================] - 102s 408ms/step - loss: 0.5705 - val_loss: 0.5703\n",
            "Epoch 12/15\n",
            "250/250 [==============================] - 105s 419ms/step - loss: 0.5700 - val_loss: 0.5699\n",
            "Epoch 13/15\n",
            "250/250 [==============================] - 102s 409ms/step - loss: 0.5697 - val_loss: 0.5691\n",
            "Epoch 14/15\n",
            "250/250 [==============================] - 102s 408ms/step - loss: 0.5688 - val_loss: 0.5687\n",
            "Epoch 15/15\n",
            "250/250 [==============================] - 104s 414ms/step - loss: 0.5685 - val_loss: 0.5681\n"
          ],
          "name": "stdout"
        }
      ]
    },
    {
      "cell_type": "code",
      "metadata": {
        "id": "FocjRc0KmW6v",
        "outputId": "e49f8f18-b9f5-44ed-fa8e-17738e02ab79",
        "colab": {
          "base_uri": "https://localhost:8080/",
          "height": 313
        }
      },
      "source": [
        "#plot learning curve\n",
        "import pandas as pd\n",
        "import matplotlib.pyplot as plt\n",
        "\n",
        "model_df = pd.DataFrame(cae_fit.history)\n",
        "model_df['epoch'] = cae_fit.epoch\n",
        "fig = plt.Figure(figsize=(4, 3))\n",
        "\n",
        "epochs_to_mean = 1\n",
        "\n",
        "plt.figure(figsize=(6, 4))\n",
        "plt.plot(model_df['loss'].rolling(epochs_to_mean).mean(), 'b')\n",
        "plt.plot(model_df['val_loss'].rolling(epochs_to_mean).mean(), '-r')\n",
        "plt.title('Learning Curves')\n",
        "plt.xlabel('Epochs')\n",
        "plt.ylabel('Loss')\n",
        "plt.legend(['traininig loss', 'validation loss'])"
      ],
      "execution_count": null,
      "outputs": [
        {
          "output_type": "execute_result",
          "data": {
            "text/plain": [
              "<matplotlib.legend.Legend at 0x7f62c771e080>"
            ]
          },
          "metadata": {
            "tags": []
          },
          "execution_count": 21
        },
        {
          "output_type": "display_data",
          "data": {
            "image/png": "[encoded data removed]",
            "text/plain": [
              "<Figure size 432x288 with 1 Axes>"
            ]
          },
          "metadata": {
            "tags": [],
            "needs_background": "light"
          }
        }
      ]
    },
    {
      "cell_type": "code",
      "metadata": {
        "id": "foWGuin6CxXy",
        "outputId": "b4fb1ac9-69bb-4a06-b21e-376d1f53cf9c",
        "colab": {
          "base_uri": "https://localhost:8080/"
        }
      },
      "source": [
        "decoded_imgs = autoencoder.predict(x_test)\n",
        "bce = keras.losses.BinaryCrossentropy()\n",
        "bce(x_test, decoded_imgs).numpy()"
      ],
      "execution_count": null,
      "outputs": [
        {
          "output_type": "execute_result",
          "data": {
            "text/plain": [
              "0.5692308"
            ]
          },
          "metadata": {
            "tags": []
          },
          "execution_count": 22
        }
      ]
    },
    {
      "cell_type": "code",
      "metadata": {
        "id": "nFt-Ut-0t9GC"
      },
      "source": [
        "#Best performing CAE\n",
        "#encoder\n",
        "encoder_input = keras.Input(shape=(32, 32, 3), name='img')\n",
        "x = Conv2D(32, (3, 3), activation='relu', padding='same')(encoder_input)\n",
        "x = BatchNormalization()(x)\n",
        "x = MaxPooling2D((2, 2), padding='same')(x)\n",
        "x = Conv2D(64, (3, 3), activation='relu', padding='same')(x)\n",
        "x = BatchNormalization()(x)\n",
        "encoder_output = MaxPooling2D((2, 2), padding='same')(x)\n",
        "\n",
        "encoder = keras.Model(encoder_input, encoder_output, name='encoder')\n",
        "\n",
        "#decoder\n",
        "x = Conv2D(32, (3, 3), activation='relu', padding='same')(encoder_output)\n",
        "x = UpSampling2D((2, 2))(x)\n",
        "x = Conv2D(16, (3, 3), activation='relu', padding='same')(x)\n",
        "x = UpSampling2D((2, 2))(x)\n",
        "decoder_output = Conv2D(3, (3, 3), activation='sigmoid', padding='same')(x)\n",
        "\n",
        "autoencoder = keras.Model(encoder_input, decoder_output, name='cae')\n",
        "autoencoder.summary()"
      ],
      "execution_count": null,
      "outputs": []
    },
    {
      "cell_type": "code",
      "metadata": {
        "id": "d4DrwK-euzAz",
        "outputId": "3f0bd4e1-7471-4c8f-dc1c-70cbe8fc39eb",
        "colab": {
          "base_uri": "https://localhost:8080/"
        }
      },
      "source": [
        "#compile and train the model\n",
        "autoencoder.compile(optimizer='adam', loss='binary_crossentropy')\n",
        "\n",
        "early_stop = keras.callbacks.EarlyStopping(monitor='val_loss', patience=3)\n",
        "cae_fit = autoencoder.fit(x_train, x_train,\n",
        "                epochs=15,\n",
        "                batch_size=100,\n",
        "                shuffle=True,\n",
        "                validation_data=(x_val, x_val),\n",
        "                callbacks=[early_stop])"
      ],
      "execution_count": null,
      "outputs": [
        {
          "output_type": "stream",
          "text": [
            "Epoch 1/15\n",
            "500/500 [==============================] - 4s 8ms/step - loss: 0.5719 - val_loss: 0.5656\n",
            "Epoch 2/15\n",
            "500/500 [==============================] - 4s 8ms/step - loss: 0.5613 - val_loss: 0.5597\n",
            "Epoch 3/15\n",
            "500/500 [==============================] - 4s 8ms/step - loss: 0.5595 - val_loss: 0.5601\n",
            "Epoch 4/15\n",
            "500/500 [==============================] - 4s 8ms/step - loss: 0.5583 - val_loss: 0.5575\n",
            "Epoch 5/15\n",
            "500/500 [==============================] - 4s 8ms/step - loss: 0.5571 - val_loss: 0.5567\n",
            "Epoch 6/15\n",
            "500/500 [==============================] - 4s 8ms/step - loss: 0.5565 - val_loss: 0.5564\n",
            "Epoch 7/15\n",
            "500/500 [==============================] - 4s 8ms/step - loss: 0.5559 - val_loss: 0.5554\n",
            "Epoch 8/15\n",
            "500/500 [==============================] - 4s 8ms/step - loss: 0.5557 - val_loss: 0.5553\n",
            "Epoch 9/15\n",
            "500/500 [==============================] - 4s 8ms/step - loss: 0.5551 - val_loss: 0.5560\n",
            "Epoch 10/15\n",
            "500/500 [==============================] - 4s 8ms/step - loss: 0.5549 - val_loss: 0.5548\n",
            "Epoch 11/15\n",
            "500/500 [==============================] - 4s 8ms/step - loss: 0.5544 - val_loss: 0.5543\n",
            "Epoch 12/15\n",
            "500/500 [==============================] - 4s 8ms/step - loss: 0.5542 - val_loss: 0.5564\n",
            "Epoch 13/15\n",
            "500/500 [==============================] - 4s 8ms/step - loss: 0.5541 - val_loss: 0.5537\n",
            "Epoch 14/15\n",
            "500/500 [==============================] - 4s 8ms/step - loss: 0.5540 - val_loss: 0.5533\n",
            "Epoch 15/15\n",
            "500/500 [==============================] - 4s 8ms/step - loss: 0.5537 - val_loss: 0.5536\n"
          ],
          "name": "stdout"
        }
      ]
    },
    {
      "cell_type": "code",
      "metadata": {
        "id": "pLueP_BVuCfq",
        "outputId": "213451d7-e00b-4a9c-a9c0-a808a6f2f9ff",
        "colab": {
          "base_uri": "https://localhost:8080/",
          "height": 313
        }
      },
      "source": [
        "#plot learning curve\n",
        "model_df = pd.DataFrame(cae_fit.history)\n",
        "model_df['epoch'] = cae_fit.epoch\n",
        "fig = plt.Figure(figsize=(4, 3))\n",
        "\n",
        "epochs_to_mean = 1\n",
        "\n",
        "plt.figure(figsize=(6, 4))\n",
        "plt.plot(model_df['loss'].rolling(epochs_to_mean).mean(), 'b')\n",
        "plt.plot(model_df['val_loss'].rolling(epochs_to_mean).mean(), '-r')\n",
        "plt.title('Learning Curves')\n",
        "plt.xlabel('Epochs')\n",
        "plt.ylabel('Loss')\n",
        "plt.legend(['traininig loss', 'validation loss'])"
      ],
      "execution_count": null,
      "outputs": [
        {
          "output_type": "execute_result",
          "data": {
            "text/plain": [
              "<matplotlib.legend.Legend at 0x7fb5c042b0b8>"
            ]
          },
          "metadata": {
            "tags": []
          },
          "execution_count": 38
        },
        {
          "output_type": "display_data",
          "data": {
            "image/png": "[encoded data removed]",
            "text/plain": [
              "<Figure size 432x288 with 1 Axes>"
            ]
          },
          "metadata": {
            "tags": [],
            "needs_background": "light"
          }
        }
      ]
    },
    {
      "cell_type": "code",
      "metadata": {
        "id": "MJ2DI2vDuZZ9",
        "outputId": "feb38066-e92d-459d-95a3-98cb5ac84168",
        "colab": {
          "base_uri": "https://localhost:8080/"
        }
      },
      "source": [
        "decoded_imgs = autoencoder.predict(x_test)\n",
        "bce = keras.losses.BinaryCrossentropy()\n",
        "bce(x_test, decoded_imgs).numpy()"
      ],
      "execution_count": null,
      "outputs": [
        {
          "output_type": "execute_result",
          "data": {
            "text/plain": [
              "0.55438167"
            ]
          },
          "metadata": {
            "tags": []
          },
          "execution_count": 39
        }
      ]
    },
    {
      "cell_type": "code",
      "metadata": {
        "id": "nnhLpSm22ia0",
        "outputId": "d8e4978b-30a2-482c-ec50-a778ac25b1fb",
        "colab": {
          "base_uri": "https://localhost:8080/",
          "height": 252
        }
      },
      "source": [
        "n = 5\n",
        "plt.figure(figsize=(20, 4))\n",
        "for i in range(n):\n",
        "    # display original\n",
        "    ax = plt.subplot(2, n, i + 1)\n",
        "    plt.imshow(x_test[i].reshape(32, 32, 3))\n",
        "    plt.gray()\n",
        "    ax.get_xaxis().set_visible(False)\n",
        "    ax.get_yaxis().set_visible(False)\n",
        "\n",
        "    # display reconstruction\n",
        "    ax = plt.subplot(2, n, i + n + 1)\n",
        "    plt.imshow(decoded_imgs[i].reshape(32, 32, 3))\n",
        "    plt.gray()\n",
        "    ax.get_xaxis().set_visible(False)\n",
        "    ax.get_yaxis().set_visible(False)\n",
        "plt.show()"
      ],
      "execution_count": null,
      "outputs": [
        {
          "output_type": "display_data",
          "data": {
            "image/png": "[encoded data removed]",
            "text/plain": [
              "<Figure size 1440x288 with 10 Axes>"
            ]
          },
          "metadata": {
            "tags": [],
            "needs_background": "light"
          }
        }
      ]
    },
    {
      "cell_type": "code",
      "metadata": {
        "id": "VL2pFSyIAg7L"
      },
      "source": [
        "#Colorization\n",
        "from tensorflow.keras.layers import InputLayer\n",
        "from tensorflow.keras import layers\n",
        "from tensorflow.keras.models import Model, Sequential\n",
        "from skimage.color import rgb2lab,lab2rgb\n",
        "\n",
        "# Load the data, split between train and test sets\n",
        "(x_train, _), (x_test, _) = keras.datasets.cifar10.load_data()\n",
        "\n",
        "#normalizing train, validation, and test\n",
        "x_train = x_train.astype('float32') / 255\n",
        "x_test = x_test.astype('float32') / 255"
      ],
      "execution_count": null,
      "outputs": []
    },
    {
      "cell_type": "code",
      "metadata": {
        "id": "JOyId1iyAx9v"
      },
      "source": [
        "#function to test range of RGB and LAB values\n",
        "def plotMinMax(Xsub_rgb,labels=[\"R\",\"G\",\"B\"]):\n",
        "    print(\"______________________________\")\n",
        "    for i, lab in enumerate(labels):\n",
        "        mi = np.min(Xsub_rgb[:,:,:,i])\n",
        "        ma = np.max(Xsub_rgb[:,:,:,i])\n",
        "        print(\"{} : MIN={:8.4f}, MAX={:8.4f}\".format(lab,mi,ma))\n",
        "\n",
        "plotMinMax(rgb2lab(x_train), labels = [\"L\",\"A\",\"B\"])"
      ],
      "execution_count": null,
      "outputs": []
    },
    {
      "cell_type": "code",
      "metadata": {
        "id": "FkgdLNMfA8R9"
      },
      "source": [
        "#Select only grayscale layer for input\n",
        "x_train_gs = rgb2lab(x_train)[:,:,:,0]\n",
        "x_train_gs = np.reshape(x_train_gs, (len(x_train_gs),32,32,1))\n",
        "\n",
        "#train with A and B layers\n",
        "x_train_ab = rgb2lab(x_train)[:,:,:,1:]\n",
        "x_train_ab = x_train_ab/128"
      ],
      "execution_count": null,
      "outputs": []
    },
    {
      "cell_type": "code",
      "metadata": {
        "id": "JJa3671qA9Ap"
      },
      "source": [
        "#Best CAE\n",
        "#encoder\n",
        "encoder_input = keras.Input(shape=(32, 32, 1), name='img')\n",
        "x = Conv2D(32, (3, 3), activation='relu', padding='same')(encoder_input)\n",
        "x = BatchNormalization()(x)\n",
        "x = MaxPooling2D((2, 2), padding='same')(x)\n",
        "x = Conv2D(64, (3, 3), activation='relu', padding='same')(x)\n",
        "x = BatchNormalization()(x)\n",
        "encoder_output = MaxPooling2D((2, 2), padding='same')(x)\n",
        "\n",
        "encoder = keras.Model(encoder_input, encoder_output, name='encoder')\n",
        "\n",
        "#decoder\n",
        "x = Conv2D(32, (3, 3), activation='relu', padding='same')(encoder_output)\n",
        "x = UpSampling2D((2, 2))(x)\n",
        "x = Conv2D(16, (3, 3), activation='relu', padding='same')(x)\n",
        "x = UpSampling2D((2, 2))(x)\n",
        "decoder_output = Conv2D(2, (3, 3), activation='tanh', padding='same')(x)\n",
        "\n",
        "autoencoder = keras.Model(encoder_input, decoder_output, name='cae')\n",
        "\n",
        "#compile\n",
        "autoencoder.compile(optimizer='adam', loss='mse')\n",
        "early_stop = keras.callbacks.EarlyStopping(monitor='val_loss', patience=3)"
      ],
      "execution_count": null,
      "outputs": []
    },
    {
      "cell_type": "code",
      "metadata": {
        "id": "UU4DobY0BHpR"
      },
      "source": [
        "#fit the best performing autoencoder from previous exercise\n",
        "cae_fit = autoencoder.fit(x_train_gs, x_train_gs,\n",
        "                epochs=15,\n",
        "                batch_size=100,\n",
        "                shuffle=True,\n",
        "                validation_data=(x_train_ab, x_train_ab),\n",
        "                callbacks=[early_stop])"
      ],
      "execution_count": null,
      "outputs": []
    },
    {
      "cell_type": "code",
      "metadata": {
        "id": "LQ4HiimRBMod"
      },
      "source": [
        "#build autoencoder without max pooling layers\n",
        "#Design the neural network\n",
        "model = Sequential()\n",
        "model.add(InputLayer(input_shape=(32, 32, 1)))\n",
        "model.add(Conv2D(16, (3, 3), activation='relu', padding='same'))\n",
        "model.add(Conv2D(16, (3, 3), activation='relu', padding='same', strides=2))\n",
        "model.add(Conv2D(32, (3, 3), activation='relu', padding='same'))\n",
        "model.add(Conv2D(32, (3, 3), activation='relu', padding='same', strides=2))\n",
        "model.add(Conv2D(32, (3, 3), activation='relu', padding='same'))\n",
        "model.add(UpSampling2D((2, 2)))\n",
        "model.add(Conv2D(32, (3, 3), activation='relu', padding='same'))\n",
        "model.add(UpSampling2D((2, 2)))\n",
        "model.add(Conv2D(32, (3, 3), activation='relu', padding='same'))\n",
        "model.add(Conv2D(2, (3, 3), activation='tanh', padding='same'))\n",
        "model.add(UpSampling2D((2, 2)))"
      ],
      "execution_count": null,
      "outputs": []
    },
    {
      "cell_type": "code",
      "metadata": {
        "id": "PEe-5H7vBhq0"
      },
      "source": [
        "#compile and fit\n",
        "model.compile(optimizer='adam', loss = 'mse')\n",
        "model.fit(x=x_train_gs, y=x_train_ab, batch_size=100, epochs=15)"
      ],
      "execution_count": null,
      "outputs": []
    },
    {
      "cell_type": "code",
      "metadata": {
        "id": "1ZTAz-frB0Af"
      },
      "source": [
        "#Use greyscale layer of the test dataset to predict color scale\n",
        "x_test_gs = rgb2lab(x_test)[:,:,:,0]\n",
        "x_test_gs = np.reshape(x_test_gs, (len(x_test_gs),32,32,1))\n",
        "\n",
        "#predict output\n",
        "output = model.predict(x_test_gs)\n",
        "output = output*128"
      ],
      "execution_count": null,
      "outputs": []
    },
    {
      "cell_type": "code",
      "metadata": {
        "id": "-CRLZ7xVCKCQ"
      },
      "source": [
        "#Check output\n",
        "x_test_rgb = np.zeros([5,32,32,3])\n",
        "for i in range(0,5):\n",
        "        cur = np.zeros((32, 32, 3))\n",
        "        cur[:,:,0] = x_test_gs[i][:,:,0]\n",
        "        cur[:,:,1:] = output[i]\n",
        "        x_test_rgb[i] = lab2rgb(cur)\n",
        "\n",
        "n = 5\n",
        "plt.figure(figsize=(20, 4))\n",
        "for i in range(n):\n",
        "    # display original\n",
        "    ax = plt.subplot(2, n, i + 1)\n",
        "    plt.imshow(x_test[i].reshape(32, 32, 3))\n",
        "    plt.gray()\n",
        "    ax.get_xaxis().set_visible(False)\n",
        "    ax.get_yaxis().set_visible(False)\n",
        "\n",
        "    # display reconstruction\n",
        "    ax = plt.subplot(2, n, i + n + 1)\n",
        "    plt.imshow(x_test_rgb[i].reshape(32, 32, 3))\n",
        "    plt.gray()\n",
        "    ax.get_xaxis().set_visible(False)\n",
        "    ax.get_yaxis().set_visible(False)\n",
        "plt.show()"
      ],
      "execution_count": null,
      "outputs": []
    }
  ]
}